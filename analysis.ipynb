{
 "cells": [
  {
   "cell_type": "code",
   "execution_count": 55,
   "metadata": {},
   "outputs": [],
   "source": [
    "import matplotlib.pyplot as plt\n",
    "import pandas as pd\n",
    "from utils import *\n",
    "%matplotlib inline\n",
    "\n",
    "import numpy as np\n",
    "# maximum print option\n",
    "np.set_printoptions(linewidth=400)\n",
    "\n",
    "from model import Schelling"
   ]
  },
  {
   "cell_type": "code",
   "execution_count": 56,
   "metadata": {},
   "outputs": [
    {
     "name": "stdout",
     "output_type": "stream",
     "text": [
      "[[0.26591479 0.27263421 0.2794403  0.28622228 0.2928298  0.29906976 0.30470915 0.30948769 0.31314225 0.3154421  0.31622777 0.3154421  0.31314225 0.30948769 0.30470915 0.29906976 0.2928298  0.28622228 0.2794403  0.27263421]\n",
      " [0.27263421 0.28029881 0.28817613 0.29615165 0.30405597 0.31165459 0.31864497 0.32466792 0.3293406  0.33231239 0.33333333 0.33231239 0.3293406  0.32466792 0.31864497 0.31165459 0.30405597 0.29615165 0.28817613 0.28029881]\n",
      " [0.2794403  0.28817613 0.29730178 0.30671173 0.31622777 0.32557609 0.33437015 0.34211277 0.34823528 0.35218565 0.35355339 0.35218565 0.34823528 0.34211277 0.33437015 0.32557609 0.31622777 0.30671173 0.29730178 0.28817613]\n",
      " [0.28622228 0.29615165 0.30671173 0.31782897 0.3293406  0.34095108 0.35218565 0.3623623  0.37062186 0.37606031 0.37796447 0.37606031 0.37062186 0.3623623  0.35218565 0.34095108 0.3293406  0.31782897 0.30671173 0.29615165]\n",
      " [0.2928298  0.30405597 0.31622777 0.3293406  0.34329452 0.35782241 0.37239099 0.3860974  0.39763536 0.40546145 0.40824829 0.40546145 0.39763536 0.3860974  0.37239099 0.35782241 0.34329452 0.3293406  0.31622777 0.30405597]\n",
      " [0.29906976 0.31165459 0.32557609 0.34095108 0.35782241 0.37606031 0.39518826 0.41412388 0.43092382 0.44285001 0.4472136  0.44285001 0.43092382 0.41412388 0.39518826 0.37606031 0.35782241 0.34095108 0.32557609 0.31165459]\n",
      " [0.30470915 0.31864497 0.33437015 0.35218565 0.37239099 0.39518826 0.42044821 0.4472136  0.4728708  0.49247906 0.5        0.49247906 0.4728708  0.4472136  0.42044821 0.39518826 0.37239099 0.35218565 0.33437015 0.31864497]\n",
      " [0.30948769 0.32466792 0.34211277 0.3623623  0.3860974  0.41412388 0.4472136  0.48549177 0.52664039 0.56234133 0.57735027 0.56234133 0.52664039 0.48549177 0.4472136  0.41412388 0.3860974  0.3623623  0.34211277 0.32466792]\n",
      " [0.31314225 0.3293406  0.34823528 0.37062186 0.39763536 0.43092382 0.4728708  0.52664039 0.59460356 0.6687403  0.70710678 0.6687403  0.59460356 0.52664039 0.4728708  0.43092382 0.39763536 0.37062186 0.34823528 0.3293406 ]\n",
      " [0.3154421  0.33231239 0.35218565 0.37606031 0.40546145 0.44285001 0.49247906 0.56234133 0.6687403  0.84089642 1.         0.84089642 0.6687403  0.56234133 0.49247906 0.44285001 0.40546145 0.37606031 0.35218565 0.33231239]\n",
      " [0.31622777 0.33333333 0.35355339 0.37796447 0.40824829 0.4472136  0.5        0.57735027 0.70710678 1.         1.         1.         0.70710678 0.57735027 0.5        0.4472136  0.40824829 0.37796447 0.35355339 0.33333333]\n",
      " [0.3154421  0.33231239 0.35218565 0.37606031 0.40546145 0.44285001 0.49247906 0.56234133 0.6687403  0.84089642 1.         0.84089642 0.6687403  0.56234133 0.49247906 0.44285001 0.40546145 0.37606031 0.35218565 0.33231239]\n",
      " [0.31314225 0.3293406  0.34823528 0.37062186 0.39763536 0.43092382 0.4728708  0.52664039 0.59460356 0.6687403  0.70710678 0.6687403  0.59460356 0.52664039 0.4728708  0.43092382 0.39763536 0.37062186 0.34823528 0.3293406 ]\n",
      " [0.30948769 0.32466792 0.34211277 0.3623623  0.3860974  0.41412388 0.4472136  0.48549177 0.52664039 0.56234133 0.57735027 0.56234133 0.52664039 0.48549177 0.4472136  0.41412388 0.3860974  0.3623623  0.34211277 0.32466792]\n",
      " [0.30470915 0.31864497 0.33437015 0.35218565 0.37239099 0.39518826 0.42044821 0.4472136  0.4728708  0.49247906 0.5        0.49247906 0.4728708  0.4472136  0.42044821 0.39518826 0.37239099 0.35218565 0.33437015 0.31864497]\n",
      " [0.29906976 0.31165459 0.32557609 0.34095108 0.35782241 0.37606031 0.39518826 0.41412388 0.43092382 0.44285001 0.4472136  0.44285001 0.43092382 0.41412388 0.39518826 0.37606031 0.35782241 0.34095108 0.32557609 0.31165459]\n",
      " [0.2928298  0.30405597 0.31622777 0.3293406  0.34329452 0.35782241 0.37239099 0.3860974  0.39763536 0.40546145 0.40824829 0.40546145 0.39763536 0.3860974  0.37239099 0.35782241 0.34329452 0.3293406  0.31622777 0.30405597]\n",
      " [0.28622228 0.29615165 0.30671173 0.31782897 0.3293406  0.34095108 0.35218565 0.3623623  0.37062186 0.37606031 0.37796447 0.37606031 0.37062186 0.3623623  0.35218565 0.34095108 0.3293406  0.31782897 0.30671173 0.29615165]\n",
      " [0.2794403  0.28817613 0.29730178 0.30671173 0.31622777 0.32557609 0.33437015 0.34211277 0.34823528 0.35218565 0.35355339 0.35218565 0.34823528 0.34211277 0.33437015 0.32557609 0.31622777 0.30671173 0.29730178 0.28817613]\n",
      " [0.27263421 0.28029881 0.28817613 0.29615165 0.30405597 0.31165459 0.31864497 0.32466792 0.3293406  0.33231239 0.33333333 0.33231239 0.3293406  0.32466792 0.31864497 0.31165459 0.30405597 0.29615165 0.28817613 0.28029881]]\n"
     ]
    }
   ],
   "source": [
    "model = Schelling(width = 20, height = 20, density = 0.8, minority_pc = 0.4, homophily = 3, k = 5,  policy = 'rich_neighborhood', follow_policy=0.2)"
   ]
  },
  {
   "cell_type": "code",
   "execution_count": 57,
   "metadata": {},
   "outputs": [
    {
     "name": "stdout",
     "output_type": "stream",
     "text": [
      "step 0\n",
      "step 1\n",
      "step 2\n",
      "step 3\n",
      "step 4\n",
      "step 5\n",
      "step 6\n",
      "step 7\n",
      "step 8\n",
      "step 9\n",
      "step 10\n",
      "step 11\n",
      "step 12\n",
      "step 13\n",
      "step 14\n",
      "step 15\n",
      "step 16\n",
      "step 17\n",
      "step 18\n",
      "step 19\n",
      "step 20\n",
      "step 21\n",
      "step 22\n",
      "step 23\n",
      "step 24\n",
      "step 25\n",
      "step 26\n",
      "step 27\n",
      "step 28\n",
      "step 29\n",
      "30\n"
     ]
    }
   ],
   "source": [
    "while model.running and model.schedule.steps < 500:\n",
    "    model.step()\n",
    "print(model.schedule.steps)  # Show how many steps have actually run"
   ]
  },
  {
   "cell_type": "code",
   "execution_count": 58,
   "metadata": {},
   "outputs": [],
   "source": [
    "model_out = model.datacollector.get_model_vars_dataframe()"
   ]
  },
  {
   "cell_type": "code",
   "execution_count": 59,
   "metadata": {},
   "outputs": [
    {
     "data": {
      "text/html": [
       "<div>\n",
       "<style scoped>\n",
       "    .dataframe tbody tr th:only-of-type {\n",
       "        vertical-align: middle;\n",
       "    }\n",
       "\n",
       "    .dataframe tbody tr th {\n",
       "        vertical-align: top;\n",
       "    }\n",
       "\n",
       "    .dataframe thead th {\n",
       "        text-align: right;\n",
       "    }\n",
       "</style>\n",
       "<table border=\"1\" class=\"dataframe\">\n",
       "  <thead>\n",
       "    <tr style=\"text-align: right;\">\n",
       "      <th></th>\n",
       "      <th>perc_happy</th>\n",
       "      <th>segregation</th>\n",
       "    </tr>\n",
       "  </thead>\n",
       "  <tbody>\n",
       "    <tr>\n",
       "      <th>0</th>\n",
       "      <td>0.616822</td>\n",
       "      <td>0.464174</td>\n",
       "    </tr>\n",
       "    <tr>\n",
       "      <th>1</th>\n",
       "      <td>0.791277</td>\n",
       "      <td>0.504673</td>\n",
       "    </tr>\n",
       "    <tr>\n",
       "      <th>2</th>\n",
       "      <td>0.838006</td>\n",
       "      <td>0.522586</td>\n",
       "    </tr>\n",
       "    <tr>\n",
       "      <th>3</th>\n",
       "      <td>0.862928</td>\n",
       "      <td>0.533489</td>\n",
       "    </tr>\n",
       "    <tr>\n",
       "      <th>4</th>\n",
       "      <td>0.894081</td>\n",
       "      <td>0.544393</td>\n",
       "    </tr>\n",
       "    <tr>\n",
       "      <th>5</th>\n",
       "      <td>0.903427</td>\n",
       "      <td>0.553738</td>\n",
       "    </tr>\n",
       "    <tr>\n",
       "      <th>6</th>\n",
       "      <td>0.909657</td>\n",
       "      <td>0.554517</td>\n",
       "    </tr>\n",
       "    <tr>\n",
       "      <th>7</th>\n",
       "      <td>0.925234</td>\n",
       "      <td>0.563863</td>\n",
       "    </tr>\n",
       "    <tr>\n",
       "      <th>8</th>\n",
       "      <td>0.931464</td>\n",
       "      <td>0.570872</td>\n",
       "    </tr>\n",
       "    <tr>\n",
       "      <th>9</th>\n",
       "      <td>0.940810</td>\n",
       "      <td>0.566978</td>\n",
       "    </tr>\n",
       "    <tr>\n",
       "      <th>10</th>\n",
       "      <td>0.937695</td>\n",
       "      <td>0.573988</td>\n",
       "    </tr>\n",
       "    <tr>\n",
       "      <th>11</th>\n",
       "      <td>0.940810</td>\n",
       "      <td>0.570093</td>\n",
       "    </tr>\n",
       "    <tr>\n",
       "      <th>12</th>\n",
       "      <td>0.947040</td>\n",
       "      <td>0.584891</td>\n",
       "    </tr>\n",
       "    <tr>\n",
       "      <th>13</th>\n",
       "      <td>0.956386</td>\n",
       "      <td>0.584112</td>\n",
       "    </tr>\n",
       "    <tr>\n",
       "      <th>14</th>\n",
       "      <td>0.953271</td>\n",
       "      <td>0.587227</td>\n",
       "    </tr>\n",
       "    <tr>\n",
       "      <th>15</th>\n",
       "      <td>0.962617</td>\n",
       "      <td>0.591121</td>\n",
       "    </tr>\n",
       "    <tr>\n",
       "      <th>16</th>\n",
       "      <td>0.962617</td>\n",
       "      <td>0.588785</td>\n",
       "    </tr>\n",
       "    <tr>\n",
       "      <th>17</th>\n",
       "      <td>0.962617</td>\n",
       "      <td>0.588006</td>\n",
       "    </tr>\n",
       "    <tr>\n",
       "      <th>18</th>\n",
       "      <td>0.965732</td>\n",
       "      <td>0.592679</td>\n",
       "    </tr>\n",
       "    <tr>\n",
       "      <th>19</th>\n",
       "      <td>0.968847</td>\n",
       "      <td>0.592679</td>\n",
       "    </tr>\n",
       "    <tr>\n",
       "      <th>20</th>\n",
       "      <td>0.968847</td>\n",
       "      <td>0.592679</td>\n",
       "    </tr>\n",
       "    <tr>\n",
       "      <th>21</th>\n",
       "      <td>0.968847</td>\n",
       "      <td>0.592679</td>\n",
       "    </tr>\n",
       "    <tr>\n",
       "      <th>22</th>\n",
       "      <td>0.968847</td>\n",
       "      <td>0.592679</td>\n",
       "    </tr>\n",
       "    <tr>\n",
       "      <th>23</th>\n",
       "      <td>0.968847</td>\n",
       "      <td>0.593458</td>\n",
       "    </tr>\n",
       "    <tr>\n",
       "      <th>24</th>\n",
       "      <td>0.968847</td>\n",
       "      <td>0.591121</td>\n",
       "    </tr>\n",
       "    <tr>\n",
       "      <th>25</th>\n",
       "      <td>0.968847</td>\n",
       "      <td>0.592679</td>\n",
       "    </tr>\n",
       "    <tr>\n",
       "      <th>26</th>\n",
       "      <td>0.968847</td>\n",
       "      <td>0.595794</td>\n",
       "    </tr>\n",
       "    <tr>\n",
       "      <th>27</th>\n",
       "      <td>0.968847</td>\n",
       "      <td>0.592679</td>\n",
       "    </tr>\n",
       "    <tr>\n",
       "      <th>28</th>\n",
       "      <td>0.968847</td>\n",
       "      <td>0.595794</td>\n",
       "    </tr>\n",
       "    <tr>\n",
       "      <th>29</th>\n",
       "      <td>0.975078</td>\n",
       "      <td>0.594237</td>\n",
       "    </tr>\n",
       "  </tbody>\n",
       "</table>\n",
       "</div>"
      ],
      "text/plain": [
       "    perc_happy  segregation\n",
       "0     0.616822     0.464174\n",
       "1     0.791277     0.504673\n",
       "2     0.838006     0.522586\n",
       "3     0.862928     0.533489\n",
       "4     0.894081     0.544393\n",
       "5     0.903427     0.553738\n",
       "6     0.909657     0.554517\n",
       "7     0.925234     0.563863\n",
       "8     0.931464     0.570872\n",
       "9     0.940810     0.566978\n",
       "10    0.937695     0.573988\n",
       "11    0.940810     0.570093\n",
       "12    0.947040     0.584891\n",
       "13    0.956386     0.584112\n",
       "14    0.953271     0.587227\n",
       "15    0.962617     0.591121\n",
       "16    0.962617     0.588785\n",
       "17    0.962617     0.588006\n",
       "18    0.965732     0.592679\n",
       "19    0.968847     0.592679\n",
       "20    0.968847     0.592679\n",
       "21    0.968847     0.592679\n",
       "22    0.968847     0.592679\n",
       "23    0.968847     0.593458\n",
       "24    0.968847     0.591121\n",
       "25    0.968847     0.592679\n",
       "26    0.968847     0.595794\n",
       "27    0.968847     0.592679\n",
       "28    0.968847     0.595794\n",
       "29    0.975078     0.594237"
      ]
     },
     "execution_count": 59,
     "metadata": {},
     "output_type": "execute_result"
    }
   ],
   "source": [
    "model_out"
   ]
  },
  {
   "cell_type": "code",
   "execution_count": 60,
   "metadata": {},
   "outputs": [
    {
     "data": {
      "text/plain": [
       "(0.616822429906542, 1.0)"
      ]
     },
     "execution_count": 60,
     "metadata": {},
     "output_type": "execute_result"
    },
    {
     "data": {
      "image/png": "[encoded data removed]",
      "text/plain": [
       "<Figure size 640x480 with 1 Axes>"
      ]
     },
     "metadata": {},
     "output_type": "display_data"
    }
   ],
   "source": [
    "model_out.perc_happy.plot()\n",
    "plt.xlabel(\"Step\")\n",
    "plt.ylabel(\"% Happy Agents\")\n",
    "plt.ylim(min(model_out.perc_happy),1)\n"
   ]
  },
  {
   "cell_type": "code",
   "execution_count": 7,
   "metadata": {},
   "outputs": [
    {
     "data": {
      "text/plain": [
       "Text(0, 0.5, 'perc_segregated_agents')"
      ]
     },
     "execution_count": 7,
     "metadata": {},
     "output_type": "execute_result"
    },
    {
     "data": {
      "image/png": "[encoded data removed]",
      "text/plain": [
       "<Figure size 640x480 with 1 Axes>"
      ]
     },
     "metadata": {},
     "output_type": "display_data"
    }
   ],
   "source": [
    "model_out.segregation.plot()\n",
    "plt.xlabel(\"Step\")\n",
    "plt.ylabel(\"perc_segregated_agents\")"
   ]
  },
  {
   "cell_type": "markdown",
   "metadata": {},
   "source": [
    "For testing purposes, here is a table giving each agent's x and y values at each step."
   ]
  },
  {
   "cell_type": "code",
   "execution_count": 8,
   "metadata": {},
   "outputs": [],
   "source": [
    "x_positions = model.datacollector.get_agent_vars_dataframe()"
   ]
  },
  {
   "cell_type": "code",
   "execution_count": 9,
   "metadata": {},
   "outputs": [
    {
     "data": {
      "text/html": [
       "<div>\n",
       "<style scoped>\n",
       "    .dataframe tbody tr th:only-of-type {\n",
       "        vertical-align: middle;\n",
       "    }\n",
       "\n",
       "    .dataframe tbody tr th {\n",
       "        vertical-align: top;\n",
       "    }\n",
       "\n",
       "    .dataframe thead th {\n",
       "        text-align: right;\n",
       "    }\n",
       "</style>\n",
       "<table border=\"1\" class=\"dataframe\">\n",
       "  <thead>\n",
       "    <tr style=\"text-align: right;\">\n",
       "      <th></th>\n",
       "      <th></th>\n",
       "      <th>x</th>\n",
       "      <th>y</th>\n",
       "    </tr>\n",
       "    <tr>\n",
       "      <th>Step</th>\n",
       "      <th>AgentID</th>\n",
       "      <th></th>\n",
       "      <th></th>\n",
       "    </tr>\n",
       "  </thead>\n",
       "  <tbody>\n",
       "    <tr>\n",
       "      <th rowspan=\"5\" valign=\"top\">1</th>\n",
       "      <th>0</th>\n",
       "      <td>15</td>\n",
       "      <td>16</td>\n",
       "    </tr>\n",
       "    <tr>\n",
       "      <th>1</th>\n",
       "      <td>5</td>\n",
       "      <td>0</td>\n",
       "    </tr>\n",
       "    <tr>\n",
       "      <th>2</th>\n",
       "      <td>0</td>\n",
       "      <td>2</td>\n",
       "    </tr>\n",
       "    <tr>\n",
       "      <th>3</th>\n",
       "      <td>0</td>\n",
       "      <td>3</td>\n",
       "    </tr>\n",
       "    <tr>\n",
       "      <th>4</th>\n",
       "      <td>19</td>\n",
       "      <td>8</td>\n",
       "    </tr>\n",
       "  </tbody>\n",
       "</table>\n",
       "</div>"
      ],
      "text/plain": [
       "               x   y\n",
       "Step AgentID        \n",
       "1    0        15  16\n",
       "     1         5   0\n",
       "     2         0   2\n",
       "     3         0   3\n",
       "     4        19   8"
      ]
     },
     "execution_count": 9,
     "metadata": {},
     "output_type": "execute_result"
    }
   ],
   "source": [
    "x_positions.head()"
   ]
  },
  {
   "cell_type": "markdown",
   "metadata": {},
   "source": [
    "# Effect of Homophily on segregation\n",
    "\n",
    "Now, we can do a parameter sweep to see how segregation changes with homophily.\n",
    "\n",
    "First, we create a function which takes a model instance and returns what fraction of agents are segregated -- that is, have no neighbors of the opposite type."
   ]
  },
  {
   "cell_type": "code",
   "execution_count": 10,
   "metadata": {},
   "outputs": [],
   "source": [
    "from mesa import batch_run"
   ]
  },
  {
   "cell_type": "code",
   "execution_count": null,
   "metadata": {},
   "outputs": [],
   "source": []
  },
  {
   "cell_type": "markdown",
   "metadata": {},
   "source": [
    "Now, we set up the batch run, with a dictionary of fixed and changing parameters. Let's hold everything fixed except for Homophily."
   ]
  },
  {
   "cell_type": "code",
   "execution_count": 11,
   "metadata": {},
   "outputs": [
    {
     "data": {
      "text/plain": [
       "{'height': 10,\n",
       " 'width': 10,\n",
       " 'density': 0.8,\n",
       " 'minority_pc': 0.2,\n",
       " 'homophily': range(1, 9)}"
      ]
     },
     "execution_count": 11,
     "metadata": {},
     "output_type": "execute_result"
    }
   ],
   "source": [
    "fixed_params = {\"height\": 10, \"width\": 10, \"density\": 0.8, \"minority_pc\": 0.2}\n",
    "variable_parms = {\"homophily\": range(1, 9)}\n",
    "\n",
    "merged_params = {**fixed_params, **variable_parms}\n",
    "merged_params "
   ]
  },
  {
   "cell_type": "code",
   "execution_count": 12,
   "metadata": {},
   "outputs": [
    {
     "name": "stderr",
     "output_type": "stream",
     "text": [
      "UsageError: Cell magic `%%` not found.\n"
     ]
    }
   ],
   "source": [
    "%% script False --no-raise-error\n",
    "\n",
    "results = batch_run(\n",
    "    Schelling,\n",
    "    parameters = merged_params,\n",
    "    iterations=10,\n",
    "    max_steps=200,\n",
    ")\n",
    "\n",
    "results_df = pd.DataFrame(results)\n",
    "results_df.head()"
   ]
  },
  {
   "cell_type": "code",
   "execution_count": 13,
   "metadata": {},
   "outputs": [
    {
     "name": "stderr",
     "output_type": "stream",
     "text": [
      "UsageError: Cell magic `%%` not found.\n"
     ]
    }
   ],
   "source": [
    "%% script False --no-raise-error\n",
    "\n",
    "plt.scatter(results_df.homophily, results_df.segregation)\n",
    "plt.xlabel(\"Homophily\")\n",
    "plt.ylabel(\"Average Happiness\")\n",
    "plt.grid(True)"
   ]
  },
  {
   "cell_type": "code",
   "execution_count": null,
   "metadata": {},
   "outputs": [],
   "source": []
  },
  {
   "cell_type": "code",
   "execution_count": null,
   "metadata": {},
   "outputs": [],
   "source": []
  },
  {
   "cell_type": "code",
   "execution_count": null,
   "metadata": {},
   "outputs": [],
   "source": []
  },
  {
   "cell_type": "code",
   "execution_count": null,
   "metadata": {},
   "outputs": [],
   "source": []
  },
  {
   "cell_type": "code",
   "execution_count": null,
   "metadata": {},
   "outputs": [],
   "source": []
  },
  {
   "cell_type": "code",
   "execution_count": 14,
   "metadata": {},
   "outputs": [
    {
     "data": {
      "text/plain": [
       "6.324555320336759"
      ]
     },
     "execution_count": 14,
     "metadata": {},
     "output_type": "execute_result"
    }
   ],
   "source": [
    "get_distance((6,3), (0,1))"
   ]
  },
  {
   "cell_type": "code",
   "execution_count": 15,
   "metadata": {},
   "outputs": [
    {
     "data": {
      "text/plain": [
       "{(37, 37): 5,\n",
       " (30, 38): 5,\n",
       " (35, 37): 2,\n",
       " (31, 31): 7,\n",
       " (34, 35): 10,\n",
       " (35, 33): 7,\n",
       " (31, 33): 2,\n",
       " (32, 37): 10,\n",
       " (36, 34): 7}"
      ]
     },
     "execution_count": 15,
     "metadata": {},
     "output_type": "execute_result"
    }
   ],
   "source": [
    "#create a random dictionary\n",
    "\n",
    "import random\n",
    "\n",
    "random_dict = {(random.randint(30,40), random.randint(30,40)): random.randint(0, 10) for i in range(10)}\n",
    "\n",
    "random_dict"
   ]
  },
  {
   "cell_type": "code",
   "execution_count": 16,
   "metadata": {},
   "outputs": [
    {
     "data": {
      "text/plain": [
       "[(35, 37),\n",
       " (31, 33),\n",
       " (37, 37),\n",
       " (30, 38),\n",
       " (31, 31),\n",
       " (35, 33),\n",
       " (36, 34),\n",
       " (34, 35),\n",
       " (32, 37)]"
      ]
     },
     "execution_count": 16,
     "metadata": {},
     "output_type": "execute_result"
    }
   ],
   "source": [
    "#sort the keys by ascending order of the value\n",
    "sorted(random_dict, key = lambda x: random_dict[x], reverse = False)\n"
   ]
  },
  {
   "cell_type": "code",
   "execution_count": 17,
   "metadata": {},
   "outputs": [],
   "source": [
    "import random \n",
    "  \n",
    "mylist = [\"apple\", \"banana\", \"mango\"] \n",
    "count_apple = 0\n",
    "count_banana = 0\n",
    "count_mango = 0  \n",
    "\n",
    "\n",
    "for i in range(1000):\n",
    "\n",
    "    r = random.choices(mylist, weights = [0.6, 0.6, 0.2], k = 6)[0]\n",
    "    if r == \"apple\":\n",
    "        count_apple += 1\n",
    "    elif r == \"banana\":\n",
    "        count_banana += 1\n",
    "    else:\n",
    "        count_mango += 1\n"
   ]
  },
  {
   "cell_type": "code",
   "execution_count": 18,
   "metadata": {},
   "outputs": [
    {
     "data": {
      "text/plain": [
       "(418, 436, 146)"
      ]
     },
     "execution_count": 18,
     "metadata": {},
     "output_type": "execute_result"
    }
   ],
   "source": [
    "count_apple, count_banana, count_mango"
   ]
  },
  {
   "cell_type": "code",
   "execution_count": 19,
   "metadata": {},
   "outputs": [
    {
     "data": {
      "text/plain": [
       "0.01"
      ]
     },
     "execution_count": 19,
     "metadata": {},
     "output_type": "execute_result"
    }
   ],
   "source": [
    "a = 0.0064565675675\n",
    "\n",
    "#round to 2 decimal places\n",
    "round(a, 2)"
   ]
  },
  {
   "cell_type": "code",
   "execution_count": null,
   "metadata": {},
   "outputs": [],
   "source": []
  }
 ],
 "metadata": {
  "kernelspec": {
   "display_name": "Python 3 (ipykernel)",
   "language": "python",
   "name": "python3"
  },
  "language_info": {
   "codemirror_mode": {
    "name": "ipython",
    "version": 3
   },
   "file_extension": ".py",
   "mimetype": "text/x-python",
   "name": "python",
   "nbconvert_exporter": "python",
   "pygments_lexer": "ipython3",
   "version": "3.11.5"
  },
  "widgets": {
   "state": {},
   "version": "1.1.2"
  }
 },
 "nbformat": 4,
 "nbformat_minor": 1
}
